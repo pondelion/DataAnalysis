{
 "cells": [
  {
   "cell_type": "markdown",
   "metadata": {},
   "source": [
    "https://www.kaggle.com/fayomi/advertising"
   ]
  },
  {
   "cell_type": "code",
   "execution_count": 16,
   "metadata": {},
   "outputs": [],
   "source": [
    "import pandas as pd\n",
    "import matplotlib.pyplot as plt\n",
    "from pylab import rcParams\n",
    "rcParams['figure.figsize'] = 10,8\n",
    "from pyspark.sql import SparkSession\n",
    "spark = SparkSession.builder.master(\"local\").getOrCreate()"
   ]
  },
  {
   "cell_type": "code",
   "execution_count": 17,
   "metadata": {},
   "outputs": [],
   "source": [
    "df = pd.read_csv('advertising/advertising.csv')\n",
    "sdf = spark.read.csv('advertising/advertising.csv', header=True)"
   ]
  },
  {
   "cell_type": "code",
   "execution_count": 18,
   "metadata": {},
   "outputs": [
    {
     "data": {
      "text/html": [
       "<div>\n",
       "<style scoped>\n",
       "    .dataframe tbody tr th:only-of-type {\n",
       "        vertical-align: middle;\n",
       "    }\n",
       "\n",
       "    .dataframe tbody tr th {\n",
       "        vertical-align: top;\n",
       "    }\n",
       "\n",
       "    .dataframe thead th {\n",
       "        text-align: right;\n",
       "    }\n",
       "</style>\n",
       "<table border=\"1\" class=\"dataframe\">\n",
       "  <thead>\n",
       "    <tr style=\"text-align: right;\">\n",
       "      <th></th>\n",
       "      <th>Daily Time Spent on Site</th>\n",
       "      <th>Age</th>\n",
       "      <th>Area Income</th>\n",
       "      <th>Daily Internet Usage</th>\n",
       "      <th>Ad Topic Line</th>\n",
       "      <th>City</th>\n",
       "      <th>Male</th>\n",
       "      <th>Country</th>\n",
       "      <th>Timestamp</th>\n",
       "      <th>Clicked on Ad</th>\n",
       "    </tr>\n",
       "  </thead>\n",
       "  <tbody>\n",
       "    <tr>\n",
       "      <th>0</th>\n",
       "      <td>68.95</td>\n",
       "      <td>35</td>\n",
       "      <td>61833.90</td>\n",
       "      <td>256.09</td>\n",
       "      <td>Cloned 5thgeneration orchestration</td>\n",
       "      <td>Wrightburgh</td>\n",
       "      <td>0</td>\n",
       "      <td>Tunisia</td>\n",
       "      <td>2016-03-27 00:53:11</td>\n",
       "      <td>0</td>\n",
       "    </tr>\n",
       "    <tr>\n",
       "      <th>1</th>\n",
       "      <td>80.23</td>\n",
       "      <td>31</td>\n",
       "      <td>68441.85</td>\n",
       "      <td>193.77</td>\n",
       "      <td>Monitored national standardization</td>\n",
       "      <td>West Jodi</td>\n",
       "      <td>1</td>\n",
       "      <td>Nauru</td>\n",
       "      <td>2016-04-04 01:39:02</td>\n",
       "      <td>0</td>\n",
       "    </tr>\n",
       "    <tr>\n",
       "      <th>2</th>\n",
       "      <td>69.47</td>\n",
       "      <td>26</td>\n",
       "      <td>59785.94</td>\n",
       "      <td>236.50</td>\n",
       "      <td>Organic bottom-line service-desk</td>\n",
       "      <td>Davidton</td>\n",
       "      <td>0</td>\n",
       "      <td>San Marino</td>\n",
       "      <td>2016-03-13 20:35:42</td>\n",
       "      <td>0</td>\n",
       "    </tr>\n",
       "    <tr>\n",
       "      <th>3</th>\n",
       "      <td>74.15</td>\n",
       "      <td>29</td>\n",
       "      <td>54806.18</td>\n",
       "      <td>245.89</td>\n",
       "      <td>Triple-buffered reciprocal time-frame</td>\n",
       "      <td>West Terrifurt</td>\n",
       "      <td>1</td>\n",
       "      <td>Italy</td>\n",
       "      <td>2016-01-10 02:31:19</td>\n",
       "      <td>0</td>\n",
       "    </tr>\n",
       "    <tr>\n",
       "      <th>4</th>\n",
       "      <td>68.37</td>\n",
       "      <td>35</td>\n",
       "      <td>73889.99</td>\n",
       "      <td>225.58</td>\n",
       "      <td>Robust logistical utilization</td>\n",
       "      <td>South Manuel</td>\n",
       "      <td>0</td>\n",
       "      <td>Iceland</td>\n",
       "      <td>2016-06-03 03:36:18</td>\n",
       "      <td>0</td>\n",
       "    </tr>\n",
       "  </tbody>\n",
       "</table>\n",
       "</div>"
      ],
      "text/plain": [
       "   Daily Time Spent on Site  Age  Area Income  Daily Internet Usage  \\\n",
       "0                     68.95   35     61833.90                256.09   \n",
       "1                     80.23   31     68441.85                193.77   \n",
       "2                     69.47   26     59785.94                236.50   \n",
       "3                     74.15   29     54806.18                245.89   \n",
       "4                     68.37   35     73889.99                225.58   \n",
       "\n",
       "                           Ad Topic Line            City  Male     Country  \\\n",
       "0     Cloned 5thgeneration orchestration     Wrightburgh     0     Tunisia   \n",
       "1     Monitored national standardization       West Jodi     1       Nauru   \n",
       "2       Organic bottom-line service-desk        Davidton     0  San Marino   \n",
       "3  Triple-buffered reciprocal time-frame  West Terrifurt     1       Italy   \n",
       "4          Robust logistical utilization    South Manuel     0     Iceland   \n",
       "\n",
       "             Timestamp  Clicked on Ad  \n",
       "0  2016-03-27 00:53:11              0  \n",
       "1  2016-04-04 01:39:02              0  \n",
       "2  2016-03-13 20:35:42              0  \n",
       "3  2016-01-10 02:31:19              0  \n",
       "4  2016-06-03 03:36:18              0  "
      ]
     },
     "execution_count": 18,
     "metadata": {},
     "output_type": "execute_result"
    }
   ],
   "source": [
    "df.head()"
   ]
  },
  {
   "cell_type": "code",
   "execution_count": 19,
   "metadata": {},
   "outputs": [],
   "source": [
    "sdf.registerTempTable('advertising')"
   ]
  },
  {
   "cell_type": "markdown",
   "metadata": {},
   "source": [
    "### サマリ"
   ]
  },
  {
   "cell_type": "code",
   "execution_count": 13,
   "metadata": {},
   "outputs": [
    {
     "name": "stdout",
     "output_type": "stream",
     "text": [
      "<class 'pandas.core.frame.DataFrame'>\n",
      "RangeIndex: 1000 entries, 0 to 999\n",
      "Data columns (total 10 columns):\n",
      "Daily Time Spent on Site    1000 non-null float64\n",
      "Age                         1000 non-null int64\n",
      "Area Income                 1000 non-null float64\n",
      "Daily Internet Usage        1000 non-null float64\n",
      "Ad Topic Line               1000 non-null object\n",
      "City                        1000 non-null object\n",
      "Male                        1000 non-null int64\n",
      "Country                     1000 non-null object\n",
      "Timestamp                   1000 non-null object\n",
      "Clicked on Ad               1000 non-null int64\n",
      "dtypes: float64(3), int64(3), object(4)\n",
      "memory usage: 78.2+ KB\n"
     ]
    }
   ],
   "source": [
    "df.info()"
   ]
  },
  {
   "cell_type": "code",
   "execution_count": 22,
   "metadata": {},
   "outputs": [
    {
     "data": {
      "text/html": [
       "<div>\n",
       "<style scoped>\n",
       "    .dataframe tbody tr th:only-of-type {\n",
       "        vertical-align: middle;\n",
       "    }\n",
       "\n",
       "    .dataframe tbody tr th {\n",
       "        vertical-align: top;\n",
       "    }\n",
       "\n",
       "    .dataframe thead th {\n",
       "        text-align: right;\n",
       "    }\n",
       "</style>\n",
       "<table border=\"1\" class=\"dataframe\">\n",
       "  <thead>\n",
       "    <tr style=\"text-align: right;\">\n",
       "      <th></th>\n",
       "      <th>summary</th>\n",
       "      <th>Daily Time Spent on Site</th>\n",
       "      <th>Age</th>\n",
       "      <th>Area Income</th>\n",
       "      <th>Daily Internet Usage</th>\n",
       "      <th>Ad Topic Line</th>\n",
       "      <th>City</th>\n",
       "      <th>Male</th>\n",
       "      <th>Country</th>\n",
       "      <th>Timestamp</th>\n",
       "      <th>Clicked on Ad</th>\n",
       "    </tr>\n",
       "  </thead>\n",
       "  <tbody>\n",
       "    <tr>\n",
       "      <th>0</th>\n",
       "      <td>count</td>\n",
       "      <td>1000</td>\n",
       "      <td>1000</td>\n",
       "      <td>1000</td>\n",
       "      <td>1000</td>\n",
       "      <td>1000</td>\n",
       "      <td>1000</td>\n",
       "      <td>1000</td>\n",
       "      <td>1000</td>\n",
       "      <td>1000</td>\n",
       "      <td>1000</td>\n",
       "    </tr>\n",
       "    <tr>\n",
       "      <th>1</th>\n",
       "      <td>mean</td>\n",
       "      <td>65.00020000000012</td>\n",
       "      <td>36.009</td>\n",
       "      <td>55000.00008000003</td>\n",
       "      <td>180.00010000000003</td>\n",
       "      <td>None</td>\n",
       "      <td>None</td>\n",
       "      <td>0.481</td>\n",
       "      <td>None</td>\n",
       "      <td>None</td>\n",
       "      <td>0.5</td>\n",
       "    </tr>\n",
       "    <tr>\n",
       "      <th>2</th>\n",
       "      <td>stddev</td>\n",
       "      <td>15.853614567500212</td>\n",
       "      <td>8.785562310125924</td>\n",
       "      <td>13414.634022282358</td>\n",
       "      <td>43.9023393019801</td>\n",
       "      <td>None</td>\n",
       "      <td>None</td>\n",
       "      <td>0.49988887654046543</td>\n",
       "      <td>None</td>\n",
       "      <td>None</td>\n",
       "      <td>0.5002501876563867</td>\n",
       "    </tr>\n",
       "    <tr>\n",
       "      <th>3</th>\n",
       "      <td>min</td>\n",
       "      <td>32.6</td>\n",
       "      <td>19</td>\n",
       "      <td>13996.5</td>\n",
       "      <td>104.78</td>\n",
       "      <td>Adaptive 24hour Graphic Interface</td>\n",
       "      <td>Adamsbury</td>\n",
       "      <td>0</td>\n",
       "      <td>Afghanistan</td>\n",
       "      <td>2016-01-01 02:52:10</td>\n",
       "      <td>0</td>\n",
       "    </tr>\n",
       "    <tr>\n",
       "      <th>4</th>\n",
       "      <td>25%</td>\n",
       "      <td>51.3</td>\n",
       "      <td>29.0</td>\n",
       "      <td>46974.15</td>\n",
       "      <td>138.71</td>\n",
       "      <td>None</td>\n",
       "      <td>None</td>\n",
       "      <td>0.0</td>\n",
       "      <td>None</td>\n",
       "      <td>None</td>\n",
       "      <td>0.0</td>\n",
       "    </tr>\n",
       "    <tr>\n",
       "      <th>5</th>\n",
       "      <td>50%</td>\n",
       "      <td>68.18</td>\n",
       "      <td>35.0</td>\n",
       "      <td>57009.76</td>\n",
       "      <td>182.84</td>\n",
       "      <td>None</td>\n",
       "      <td>None</td>\n",
       "      <td>0.0</td>\n",
       "      <td>None</td>\n",
       "      <td>None</td>\n",
       "      <td>0.0</td>\n",
       "    </tr>\n",
       "    <tr>\n",
       "      <th>6</th>\n",
       "      <td>75%</td>\n",
       "      <td>78.54</td>\n",
       "      <td>42.0</td>\n",
       "      <td>65461.92</td>\n",
       "      <td>218.79</td>\n",
       "      <td>None</td>\n",
       "      <td>None</td>\n",
       "      <td>1.0</td>\n",
       "      <td>None</td>\n",
       "      <td>None</td>\n",
       "      <td>1.0</td>\n",
       "    </tr>\n",
       "    <tr>\n",
       "      <th>7</th>\n",
       "      <td>max</td>\n",
       "      <td>91.43</td>\n",
       "      <td>61</td>\n",
       "      <td>79484.8</td>\n",
       "      <td>269.96</td>\n",
       "      <td>Visionary reciprocal circuit</td>\n",
       "      <td>Zacharyton</td>\n",
       "      <td>1</td>\n",
       "      <td>Zimbabwe</td>\n",
       "      <td>2016-07-24 00:22:16</td>\n",
       "      <td>1</td>\n",
       "    </tr>\n",
       "  </tbody>\n",
       "</table>\n",
       "</div>"
      ],
      "text/plain": [
       "  summary Daily Time Spent on Site                Age         Area Income  \\\n",
       "0   count                     1000               1000                1000   \n",
       "1    mean        65.00020000000012             36.009   55000.00008000003   \n",
       "2  stddev       15.853614567500212  8.785562310125924  13414.634022282358   \n",
       "3     min                     32.6                 19             13996.5   \n",
       "4     25%                     51.3               29.0            46974.15   \n",
       "5     50%                    68.18               35.0            57009.76   \n",
       "6     75%                    78.54               42.0            65461.92   \n",
       "7     max                    91.43                 61             79484.8   \n",
       "\n",
       "  Daily Internet Usage                      Ad Topic Line        City  \\\n",
       "0                 1000                               1000        1000   \n",
       "1   180.00010000000003                               None        None   \n",
       "2     43.9023393019801                               None        None   \n",
       "3               104.78  Adaptive 24hour Graphic Interface   Adamsbury   \n",
       "4               138.71                               None        None   \n",
       "5               182.84                               None        None   \n",
       "6               218.79                               None        None   \n",
       "7               269.96       Visionary reciprocal circuit  Zacharyton   \n",
       "\n",
       "                  Male      Country            Timestamp       Clicked on Ad  \n",
       "0                 1000         1000                 1000                1000  \n",
       "1                0.481         None                 None                 0.5  \n",
       "2  0.49988887654046543         None                 None  0.5002501876563867  \n",
       "3                    0  Afghanistan  2016-01-01 02:52:10                   0  \n",
       "4                  0.0         None                 None                 0.0  \n",
       "5                  0.0         None                 None                 0.0  \n",
       "6                  1.0         None                 None                 1.0  \n",
       "7                    1     Zimbabwe  2016-07-24 00:22:16                   1  "
      ]
     },
     "execution_count": 22,
     "metadata": {},
     "output_type": "execute_result"
    }
   ],
   "source": [
    "sdf.summary().toPandas()"
   ]
  },
  {
   "cell_type": "markdown",
   "metadata": {},
   "source": [
    "### ヒストグラム"
   ]
  },
  {
   "cell_type": "code",
   "execution_count": 15,
   "metadata": {},
   "outputs": [
    {
     "data": {
      "text/plain": [
       "array([[<matplotlib.axes._subplots.AxesSubplot object at 0x000001BB73C36D68>,\n",
       "        <matplotlib.axes._subplots.AxesSubplot object at 0x000001BB73DEE748>],\n",
       "       [<matplotlib.axes._subplots.AxesSubplot object at 0x000001BB73E04D68>,\n",
       "        <matplotlib.axes._subplots.AxesSubplot object at 0x000001BB73E20438>],\n",
       "       [<matplotlib.axes._subplots.AxesSubplot object at 0x000001BB73E37AC8>,\n",
       "        <matplotlib.axes._subplots.AxesSubplot object at 0x000001BB76E97198>]],\n",
       "      dtype=object)"
      ]
     },
     "execution_count": 15,
     "metadata": {},
     "output_type": "execute_result"
    },
    {
     "data": {
      "image/png": "[encoded data removed]",
      "text/plain": [
       "<Figure size 720x576 with 6 Axes>"
      ]
     },
     "metadata": {},
     "output_type": "display_data"
    }
   ],
   "source": [
    "df.hist()"
   ]
  },
  {
   "cell_type": "markdown",
   "metadata": {},
   "source": [
    "### クリック有無毎の各平均値"
   ]
  },
  {
   "cell_type": "code",
   "execution_count": 36,
   "metadata": {},
   "outputs": [
    {
     "name": "stdout",
     "output_type": "stream",
     "text": [
      "+-------------+-------+------------------+------------------------+--------+-----------------+\n",
      "|Clicked on Ad|avg_age|   avg_area_income|avg_daily_interest_usage|avg_male|   avg_daily_time|\n",
      "+-------------+-------+------------------+------------------------+--------+-----------------+\n",
      "|            0| 31.684| 61385.58641999997|      214.51373999999979|     0.5|76.85461999999998|\n",
      "|            1| 40.334|48614.413739999996|      145.48646000000005|   0.462|53.14577999999996|\n",
      "+-------------+-------+------------------+------------------------+--------+-----------------+\n",
      "\n"
     ]
    }
   ],
   "source": [
    "spark.sql('''\n",
    "SELECT\n",
    "  `Clicked on Ad`\n",
    "  , AVG(Age) as avg_age\n",
    "  , AVG(`Area Income`) as avg_area_income\n",
    "  , AVG(`Daily Internet Usage`) as avg_daily_interest_usage\n",
    "  , AVG(Male) as avg_male\n",
    "  , AVG(`Daily Time Spent on Site`) as avg_daily_time\n",
    "FROM\n",
    "  advertising\n",
    "GROUP BY\n",
    "  `Clicked on Ad`\n",
    "''').show()"
   ]
  },
  {
   "cell_type": "markdown",
   "metadata": {},
   "source": [
    "### CTR時間依存性"
   ]
  },
  {
   "cell_type": "code",
   "execution_count": 43,
   "metadata": {},
   "outputs": [
    {
     "name": "stdout",
     "output_type": "stream",
     "text": [
      "+----+-------------------+\n",
      "|hour|                CTR|\n",
      "+----+-------------------+\n",
      "|   0| 0.5777777777777777|\n",
      "|   1|                0.5|\n",
      "|   2| 0.4722222222222222|\n",
      "|   3| 0.5476190476190477|\n",
      "|   4|                0.5|\n",
      "|   5| 0.4772727272727273|\n",
      "|   6| 0.5897435897435898|\n",
      "|   7|0.48148148148148145|\n",
      "|   8| 0.4883720930232558|\n",
      "|   9| 0.5714285714285714|\n",
      "|  10|0.45161290322580644|\n",
      "|  11|                0.6|\n",
      "|  12|0.42105263157894735|\n",
      "|  13|                0.5|\n",
      "|  14| 0.4883720930232558|\n",
      "|  15| 0.5428571428571428|\n",
      "|  16|0.41025641025641024|\n",
      "|  17| 0.5609756097560976|\n",
      "|  18| 0.6097560975609756|\n",
      "|  19|0.48717948717948717|\n",
      "+----+-------------------+\n",
      "only showing top 20 rows\n",
      "\n"
     ]
    }
   ],
   "source": [
    "spark.sql('''\n",
    "SELECT\n",
    "  HOUR(to_timestamp(timestamp)) as hour\n",
    "  , SUM(`Clicked on Ad`) / COUNT(`Clicked on Ad`) AS CTR\n",
    "FROM\n",
    "  advertising\n",
    "GROUP BY\n",
    "  HOUR(to_timestamp(timestamp))\n",
    "ORDER BY\n",
    "  hour\n",
    "''').show()"
   ]
  },
  {
   "cell_type": "code",
   "execution_count": 44,
   "metadata": {},
   "outputs": [
    {
     "name": "stdout",
     "output_type": "stream",
     "text": [
      "+---+-------------------+\n",
      "|day|                CTR|\n",
      "+---+-------------------+\n",
      "|  1| 0.5757575757575758|\n",
      "|  2|                0.4|\n",
      "|  3| 0.5652173913043478|\n",
      "|  4| 0.3888888888888889|\n",
      "|  5| 0.5142857142857142|\n",
      "|  6|               0.56|\n",
      "|  7|             0.4375|\n",
      "|  8|0.42857142857142855|\n",
      "|  9| 0.5882352941176471|\n",
      "| 10| 0.5135135135135135|\n",
      "| 11|            0.46875|\n",
      "| 12| 0.6896551724137931|\n",
      "| 13| 0.5666666666666667|\n",
      "| 14| 0.6363636363636364|\n",
      "| 15| 0.4878048780487805|\n",
      "| 16|                0.4|\n",
      "| 17|0.42857142857142855|\n",
      "| 18| 0.4857142857142857|\n",
      "| 19|0.41379310344827586|\n",
      "| 20| 0.3333333333333333|\n",
      "+---+-------------------+\n",
      "only showing top 20 rows\n",
      "\n"
     ]
    }
   ],
   "source": [
    "spark.sql('''\n",
    "SELECT\n",
    "  DAY(to_timestamp(timestamp)) as day\n",
    "  , SUM(`Clicked on Ad`) / COUNT(`Clicked on Ad`) AS CTR\n",
    "FROM\n",
    "  advertising\n",
    "GROUP BY\n",
    "  DAY(to_timestamp(timestamp))\n",
    "ORDER BY\n",
    "  day\n",
    "''').show()"
   ]
  },
  {
   "cell_type": "code",
   "execution_count": 45,
   "metadata": {},
   "outputs": [
    {
     "name": "stdout",
     "output_type": "stream",
     "text": [
      "+-----+-------------------+\n",
      "|month|                CTR|\n",
      "+-----+-------------------+\n",
      "|    1|0.46938775510204084|\n",
      "|    2|            0.51875|\n",
      "|    3|0.47435897435897434|\n",
      "|    4| 0.5034013605442177|\n",
      "|    5| 0.5374149659863946|\n",
      "|    6|                0.5|\n",
      "|    7|0.49504950495049505|\n",
      "+-----+-------------------+\n",
      "\n"
     ]
    }
   ],
   "source": [
    "spark.sql('''\n",
    "SELECT\n",
    "  MONTH(to_timestamp(timestamp)) as month\n",
    "  , SUM(`Clicked on Ad`) / COUNT(`Clicked on Ad`) AS CTR\n",
    "FROM\n",
    "  advertising\n",
    "GROUP BY\n",
    "  MONTH(to_timestamp(timestamp))\n",
    "ORDER BY\n",
    "  month\n",
    "''').show()"
   ]
  },
  {
   "cell_type": "code",
   "execution_count": null,
   "metadata": {},
   "outputs": [],
   "source": []
  }
 ],
 "metadata": {
  "kernelspec": {
   "display_name": "Python 3",
   "language": "python",
   "name": "python3"
  },
  "language_info": {
   "codemirror_mode": {
    "name": "ipython",
    "version": 3
   },
   "file_extension": ".py",
   "mimetype": "text/x-python",
   "name": "python",
   "nbconvert_exporter": "python",
   "pygments_lexer": "ipython3",
   "version": "3.5.0"
  }
 },
 "nbformat": 4,
 "nbformat_minor": 2
}
