{
 "cells": [
  {
   "cell_type": "code",
   "execution_count": 1,
   "metadata": {
    "collapsed": true
   },
   "outputs": [],
   "source": [
    "import pandas as pd"
   ]
  },
  {
   "cell_type": "code",
   "execution_count": null,
   "metadata": {},
   "outputs": [
    {
     "name": "stdout",
     "output_type": "stream",
     "text": [
      "\u001b7\u001b[?47h\u001b[?1h\u001b=\r",
      "country,year,sex,age,suicides_no,population\r\n",
      "Albania,1985,female,15-24 years,,277900\r\n",
      "Albania,1985,female,25-34 years,,246800\r\n",
      "Albania,1985,female,35-54 years,,267500\r\n",
      "Albania,1985,female,5-14 years,,298300\r\n",
      "Albania,1985,female,55-74 years,,138700\r\n",
      "Albania,1985,female,75+ years,,34200\r\n",
      "Albania,1985,male,15-24 years,,301400\r\n",
      "Albania,1985,male,25-34 years,,264200\r\n",
      "Albania,1985,male,35-54 years,,296700\r\n",
      "Albania,1985,male,5-14 years,,325800\r\n",
      "Albania,1985,male,55-74 years,,132500\r\n",
      "Albania,1985,male,75+ years,,21100\r\n",
      "Albania,1986,female,15-24 years,,283900\r\n",
      "Albania,1986,female,25-34 years,,252100\r\n",
      "Albania,1986,female,35-54 years,,273200\r\n",
      "Albania,1986,female,5-14 years,,304700\r\n",
      "Albania,1986,female,55-74 years,,141700\r\n",
      "Albania,1986,female,75+ years,,34900\r\n",
      "Albania,1986,male,15-24 years,,306700\r\n",
      "Albania,1986,male,25-34 years,,269000\r\n",
      "Albania,1986,male,35-54 years,,302000\r\n",
      "Albania,1986,male,5-14 years,,331600\r\n",
      "\u001b[7mwho_suicide_statistics.csv\u001b[m\u001b[K"
     ]
    }
   ],
   "source": [
    "!less who_suicide_statistics.csv"
   ]
  },
  {
   "cell_type": "code",
   "execution_count": 3,
   "metadata": {},
   "outputs": [],
   "source": [
    "df = pd.read_csv('who_suicide_statistics.csv')"
   ]
  },
  {
   "cell_type": "code",
   "execution_count": 4,
   "metadata": {},
   "outputs": [
    {
     "data": {
      "text/plain": [
       "Index(['country', 'year', 'sex', 'age', 'suicides_no', 'population'], dtype='object')"
      ]
     },
     "execution_count": 4,
     "metadata": {},
     "output_type": "execute_result"
    }
   ],
   "source": [
    "df.columns"
   ]
  },
  {
   "cell_type": "code",
   "execution_count": 5,
   "metadata": {},
   "outputs": [
    {
     "data": {
      "text/html": [
       "<div>\n",
       "<style scoped>\n",
       "    .dataframe tbody tr th:only-of-type {\n",
       "        vertical-align: middle;\n",
       "    }\n",
       "\n",
       "    .dataframe tbody tr th {\n",
       "        vertical-align: top;\n",
       "    }\n",
       "\n",
       "    .dataframe thead th {\n",
       "        text-align: right;\n",
       "    }\n",
       "</style>\n",
       "<table border=\"1\" class=\"dataframe\">\n",
       "  <thead>\n",
       "    <tr style=\"text-align: right;\">\n",
       "      <th></th>\n",
       "      <th>country</th>\n",
       "      <th>year</th>\n",
       "      <th>sex</th>\n",
       "      <th>age</th>\n",
       "      <th>suicides_no</th>\n",
       "      <th>population</th>\n",
       "    </tr>\n",
       "  </thead>\n",
       "  <tbody>\n",
       "    <tr>\n",
       "      <th>0</th>\n",
       "      <td>Albania</td>\n",
       "      <td>1985</td>\n",
       "      <td>female</td>\n",
       "      <td>15-24 years</td>\n",
       "      <td>NaN</td>\n",
       "      <td>277900.0</td>\n",
       "    </tr>\n",
       "    <tr>\n",
       "      <th>1</th>\n",
       "      <td>Albania</td>\n",
       "      <td>1985</td>\n",
       "      <td>female</td>\n",
       "      <td>25-34 years</td>\n",
       "      <td>NaN</td>\n",
       "      <td>246800.0</td>\n",
       "    </tr>\n",
       "    <tr>\n",
       "      <th>2</th>\n",
       "      <td>Albania</td>\n",
       "      <td>1985</td>\n",
       "      <td>female</td>\n",
       "      <td>35-54 years</td>\n",
       "      <td>NaN</td>\n",
       "      <td>267500.0</td>\n",
       "    </tr>\n",
       "    <tr>\n",
       "      <th>3</th>\n",
       "      <td>Albania</td>\n",
       "      <td>1985</td>\n",
       "      <td>female</td>\n",
       "      <td>5-14 years</td>\n",
       "      <td>NaN</td>\n",
       "      <td>298300.0</td>\n",
       "    </tr>\n",
       "    <tr>\n",
       "      <th>4</th>\n",
       "      <td>Albania</td>\n",
       "      <td>1985</td>\n",
       "      <td>female</td>\n",
       "      <td>55-74 years</td>\n",
       "      <td>NaN</td>\n",
       "      <td>138700.0</td>\n",
       "    </tr>\n",
       "  </tbody>\n",
       "</table>\n",
       "</div>"
      ],
      "text/plain": [
       "   country  year     sex          age  suicides_no  population\n",
       "0  Albania  1985  female  15-24 years          NaN    277900.0\n",
       "1  Albania  1985  female  25-34 years          NaN    246800.0\n",
       "2  Albania  1985  female  35-54 years          NaN    267500.0\n",
       "3  Albania  1985  female   5-14 years          NaN    298300.0\n",
       "4  Albania  1985  female  55-74 years          NaN    138700.0"
      ]
     },
     "execution_count": 5,
     "metadata": {},
     "output_type": "execute_result"
    }
   ],
   "source": [
    "df.head()"
   ]
  },
  {
   "cell_type": "code",
   "execution_count": 20,
   "metadata": {},
   "outputs": [
    {
     "data": {
      "text/plain": [
       "country\n",
       "Albania                                    NaN\n",
       "Anguilla                                   NaN\n",
       "Antigua and Barbuda                   0.000005\n",
       "Argentina                             0.000079\n",
       "Armenia                                    NaN\n",
       "Aruba                                 0.000068\n",
       "Australia                                  NaN\n",
       "Austria                                    NaN\n",
       "Azerbaijan                                 NaN\n",
       "Bahamas                                    NaN\n",
       "Bahrain                               0.000028\n",
       "Barbados                              0.000027\n",
       "Belarus                                    NaN\n",
       "Belgium                               0.000212\n",
       "Belize                                     NaN\n",
       "Bermuda                                    NaN\n",
       "Bolivia                                    NaN\n",
       "Bosnia and Herzegovina                     NaN\n",
       "Brazil                                0.000046\n",
       "British Virgin Islands                     NaN\n",
       "Brunei Darussalam                          NaN\n",
       "Bulgaria                                   NaN\n",
       "Cabo Verde                            0.000093\n",
       "Canada                                0.000133\n",
       "Cayman Islands                             NaN\n",
       "Chile                                      NaN\n",
       "Colombia                              0.000048\n",
       "Costa Rica                                 NaN\n",
       "Croatia                               0.000215\n",
       "Cuba                                       NaN\n",
       "                                        ...   \n",
       "Saudi Arabia                               NaN\n",
       "Serbia                                0.000192\n",
       "Seychelles                            0.000070\n",
       "Singapore                             0.000107\n",
       "Slovakia                                   NaN\n",
       "Slovenia                              0.000285\n",
       "South Africa                          0.000008\n",
       "Spain                                      NaN\n",
       "Sri Lanka                             0.000325\n",
       "Suriname                              0.000188\n",
       "Sweden                                     NaN\n",
       "Switzerland                                NaN\n",
       "Syrian Arab Republic                       NaN\n",
       "TFYR Macedonia                             NaN\n",
       "Tajikistan                                 NaN\n",
       "Thailand                              0.000070\n",
       "Trinidad and Tobago                   0.000119\n",
       "Tunisia                                    NaN\n",
       "Turkey                                0.000021\n",
       "Turkmenistan                               NaN\n",
       "Turks and Caicos Islands                   NaN\n",
       "Ukraine                                    NaN\n",
       "United Arab Emirates                  0.000017\n",
       "United Kingdom                             NaN\n",
       "United States of America                   NaN\n",
       "Uruguay                                    NaN\n",
       "Uzbekistan                                 NaN\n",
       "Venezuela (Bolivarian Republic of)    0.000046\n",
       "Virgin Islands (USA)                       NaN\n",
       "Zimbabwe                                   NaN\n",
       "Length: 141, dtype: float64"
      ]
     },
     "execution_count": 20,
     "metadata": {},
     "output_type": "execute_result"
    }
   ],
   "source": [
    "df.groupby('country').apply(lambda d: sum(d.suicides_no)/sum(d.population))"
   ]
  },
  {
   "cell_type": "code",
   "execution_count": null,
   "metadata": {
    "collapsed": true
   },
   "outputs": [],
   "source": []
  }
 ],
 "metadata": {
  "kernelspec": {
   "display_name": "Python 3",
   "language": "python",
   "name": "python3"
  },
  "language_info": {
   "codemirror_mode": {
    "name": "ipython",
    "version": 3
   },
   "file_extension": ".py",
   "mimetype": "text/x-python",
   "name": "python",
   "nbconvert_exporter": "python",
   "pygments_lexer": "ipython3",
   "version": "3.6.2"
  }
 },
 "nbformat": 4,
 "nbformat_minor": 2
}
